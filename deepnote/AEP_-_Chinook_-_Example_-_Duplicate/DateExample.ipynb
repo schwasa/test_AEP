{
  "cells": [
    {
      "cell_type": "code",
      "metadata": {
        "source_hash": "4c2e4dd6",
        "execution_start": 1739518578532,
        "execution_millis": 0,
        "execution_context_id": "ab885228-ca62-4047-8617-f58ff32b5654",
        "cell_id": "6acd5378d4df4b06b42dc5c4290e794a",
        "deepnote_cell_type": "code"
      },
      "source": "from datetime import date\nimport os",
      "block_group": "0f7138c4212148eaa4c794215907dbe7",
      "execution_count": 1,
      "outputs": [],
      "outputs_reference": null,
      "content_dependencies": null
    },
    {
      "cell_type": "code",
      "metadata": {
        "source_hash": "cebef1e6",
        "execution_start": 1739518578584,
        "execution_millis": 0,
        "execution_context_id": "ab885228-ca62-4047-8617-f58ff32b5654",
        "cell_id": "0d07e5f0683a42bab3ef82fde9a7eaa8",
        "deepnote_cell_type": "code"
      },
      "source": "import sqlite3\nfrom contextlib import closing",
      "block_group": "b74c0cd19baf42839ee37f5a5c2d7ecb",
      "execution_count": 2,
      "outputs": [],
      "outputs_reference": null,
      "content_dependencies": null
    },
    {
      "cell_type": "markdown",
      "metadata": {
        "cell_id": "f18dd2675eac4f2fbb0884e5678fdab9",
        "deepnote_cell_type": "markdown"
      },
      "source": "# Konfigurieren der Typen Umwandlung\n\nWir müssen Python sagen wie das Datum genau umgewandelt wird für die benutzte Datenbank. Das können wir in der `data_access/__init__.py` machen, da dies ausgeführt wird, sobald das modul oder eine Komponente aus dem Modul importiert wird.\n\nIn der Datei steht zur Konfigurierung folgendes:\n```python\nfrom datetime import date, datetime\nimport sqlite3\n\n## Adapter: Wandelt `date`-Objekt in `TEXT` um\nsqlite3.register_adapter(date, lambda d: d.isoformat())\n\n## Konverter: Wandelt gespeicherte `TEXT`-Werte wieder in `date`\nsqlite3.register_converter(\"DATE\", lambda s: datetime.strptime(s.decode(), \"%Y-%m-%d\").date())\n```",
      "block_group": "ad4ba693b81d4aafade5903a427d113f"
    },
    {
      "cell_type": "markdown",
      "metadata": {
        "cell_id": "5f1c2773bfa946859801dac170be6018",
        "deepnote_cell_type": "markdown"
      },
      "source": "Deshalb importieren wir hier das modul, das konfiguriert folglich den adapter und converter.",
      "block_group": "70c70e13d51d4625a8571ad37581aff1"
    },
    {
      "cell_type": "code",
      "metadata": {
        "source_hash": "f2af3c10",
        "execution_start": 1739518578632,
        "execution_millis": 2466,
        "execution_context_id": "ab885228-ca62-4047-8617-f58ff32b5654",
        "cell_id": "261501b1e39a4b2e8daf0172a8f56f00",
        "deepnote_cell_type": "code"
      },
      "source": "import data_access # import und damit Konfiguration der Umwandlung von date in TEXT und umgekehrt.",
      "block_group": "b5ebde931a8245c49c527c1468d3bcc9",
      "execution_count": 3,
      "outputs": [],
      "outputs_reference": null,
      "content_dependencies": null
    },
    {
      "cell_type": "markdown",
      "metadata": {
        "cell_id": "74d4c85a72094be69c0d2aba0b3e1ec2",
        "deepnote_cell_type": "markdown"
      },
      "source": "# Verbindungsaufbau\n\nNun müssen wir jedoch im Verbindungsaufbau konfigurieren, dass die definierten Umwandlungen verwendet werden sollen. Das machen wir, indem wir beim Verbinden folgenden Parameter setzen `detect_types=sqlite3.PARSE_DECLTYPES`",
      "block_group": "4f7b8ee4a76b431caec201a8bb21c250"
    },
    {
      "cell_type": "code",
      "metadata": {
        "source_hash": "d1fe01e6",
        "execution_start": 1739518581148,
        "execution_millis": 0,
        "execution_context_id": "ab885228-ca62-4047-8617-f58ff32b5654",
        "cell_id": "ef4fbe3430a44ce89bbcc0195fd26ca5",
        "deepnote_cell_type": "code"
      },
      "source": "def get_connection():\n    # Verbindung mit `detect_types=sqlite3.PARSE_DECLTYPES` erstellen\n    return sqlite3.connect(\"example.db\", detect_types=sqlite3.PARSE_DECLTYPES)",
      "block_group": "bebea4e413e749178a39d2df49f1c10d",
      "execution_count": 4,
      "outputs": [],
      "outputs_reference": null,
      "content_dependencies": null
    },
    {
      "cell_type": "markdown",
      "metadata": {
        "cell_id": "416e2bb34d964141931acecbc0775f52",
        "deepnote_cell_type": "markdown"
      },
      "source": "Auch wenn die Libraries nach dem `with`-Block die Verbindungen oder die Ressourcen freigeben sollten, machen dies nicht alle immer sauber. SQLite3 gehört zu denen die den Context Manager nicht umfänglich implementiert haben.\n\nPython stellt für diese Fälle eine funktion `closing(...)` zur Verfügung, damit die Verbindung durch den context manager `with` auch automatisch geschlossen wird.\n\nBeispiel:\n```python\nwith closing(get_connection()) as conn:\n    cursor = conn.cursor()\n    ...\n```\n\nDamit stellen wir sicher dass die Verbindung und die Ressource sicher wieder freigegeben wird nach dem `with`-Block.",
      "block_group": "bdf3c0da08fe44139a48a8b1aff3e448"
    },
    {
      "cell_type": "markdown",
      "metadata": {
        "cell_id": "8bc17933c4d74dcd92210fdc8835eeb9",
        "deepnote_cell_type": "markdown"
      },
      "source": "# Erstellen einer einfachen Datenbank\nWir erstellen ein ganz einfaches Datenbankschema mit einer Tabelle:  \n\n__User__ \n* <u>_id_</u>: INTEGER\n* name: TEXT\n* birthdate: DATE",
      "block_group": "eece1cb78fda443da5142bcc82774428"
    },
    {
      "cell_type": "code",
      "metadata": {
        "source_hash": "a18ff909",
        "execution_start": 1739518581196,
        "execution_millis": 356,
        "execution_context_id": "ab885228-ca62-4047-8617-f58ff32b5654",
        "deepnote_app_block_visible": false,
        "cell_id": "88d8827232b9403ea1465ab8661a7392",
        "deepnote_cell_type": "code"
      },
      "source": "with closing(get_connection()) as conn:\n    try:\n        cursor = conn.cursor()\n    \n        # Falls nötig, Tabelle erstellen\n        cursor.execute(\"\"\"\n            CREATE TABLE IF NOT EXISTS User (\n                id INTEGER PRIMARY KEY AUTOINCREMENT,\n                name TEXT,\n                birthdate DATE\n            )\n        \"\"\")\n    except sqlite3.Error as e:\n        conn.rollback()\n    else:\n        conn.commit()\n    finally:\n        cursor.close()",
      "block_group": "7b62ece0a7b741b8b19038a4fdfe79bb",
      "execution_count": 5,
      "outputs": [],
      "outputs_reference": null,
      "content_dependencies": null
    },
    {
      "cell_type": "markdown",
      "metadata": {
        "cell_id": "5b3dae72ddf14d38bf9e7918f09f1b98",
        "deepnote_cell_type": "markdown"
      },
      "source": "# Hinzufügen eines Beispiel Datensatz\n\nNun können wir das date von Python verwenden, um ein Datum in das korrekte Format zu konvertieren. Wie oben beschrieben haben wir das durch den Import `import data_access` bereits konfiguriert.",
      "block_group": "df5ad97904eb480ea0055819fa383693"
    },
    {
      "cell_type": "code",
      "metadata": {
        "source_hash": "9a2bc797",
        "execution_start": 1739518581600,
        "execution_millis": 382,
        "execution_context_id": "ab885228-ca62-4047-8617-f58ff32b5654",
        "cell_id": "d987e628dfc940609165a07cd0bc2d3c",
        "deepnote_cell_type": "code"
      },
      "source": "with closing(get_connection()) as conn:\n    try:\n        cursor = conn.cursor()\n        cursor.execute(\"INSERT INTO User (name, birthdate) VALUES (?, ?)\", (\"Alice\", date.today()))\n    except sqlite3.Error as e:\n        conn.rollback()\n    else:\n        conn.commit()\n    finally:\n        cursor.close()",
      "block_group": "8cceca487dcd4f178a50e512e67c7f0c",
      "execution_count": 6,
      "outputs": [],
      "outputs_reference": null,
      "content_dependencies": null
    },
    {
      "cell_type": "markdown",
      "metadata": {
        "cell_id": "d41206b4403d4816a0235afdabbf2243",
        "deepnote_cell_type": "markdown"
      },
      "source": "# Auslesen der Daten\nNun können wir die erstellten Benutzer auslesen und bekommen wieder ein Datum zurück.",
      "block_group": "149f2f7957fb46b7a6aabb4147f78603"
    },
    {
      "cell_type": "code",
      "metadata": {
        "source_hash": "916e12c",
        "execution_start": 1739518582028,
        "execution_millis": 76,
        "execution_context_id": "ab885228-ca62-4047-8617-f58ff32b5654",
        "cell_id": "39abf30a47664decb80ff1994c63a43a",
        "deepnote_cell_type": "code"
      },
      "source": "with closing(get_connection()) as conn:\n    try:\n        cursor = conn.cursor()\n        cursor.execute(\"SELECT id, name, birthdate FROM User\")\n        rows = cursor.fetchall()\n        for row in rows:\n            print(row)\n    except sqlite3.Error as e:\n        conn.rollback()\n    else:\n        conn.commit()\n    finally:\n        cursor.close()",
      "block_group": "4eccfe4982b147a1923ef78000aabc49",
      "execution_count": 7,
      "outputs": [],
      "outputs_reference": null,
      "content_dependencies": null
    },
    {
      "cell_type": "markdown",
      "metadata": {
        "cell_id": "9adefbee2a4a45aaa8e88a3286d14fa0",
        "deepnote_cell_type": "markdown"
      },
      "source": "# Aufräumen\nLöschen wir die Datei wieder um aufzuräumen.",
      "block_group": "858383ce80814eeaa3e678c5e9e0077c"
    },
    {
      "cell_type": "code",
      "metadata": {
        "source_hash": "7529d888",
        "execution_start": 1739518582152,
        "execution_millis": 7267,
        "execution_context_id": "ab885228-ca62-4047-8617-f58ff32b5654",
        "cell_id": "6ae3a82795d84bb3bab3f1b2ad1c69ab",
        "deepnote_cell_type": "code"
      },
      "source": "from ui.input_helper import input_y_n, YesOrNo\n\nif input_y_n(\"Wollen Sie die Datei 'example.db' löschen? (y/n) [y]\", default=YesOrNo.YES):\n    # Überprüfen, ob die Datei existiert, bevor sie gelöscht wird\n    if os.path.exists(\"example.db\"):\n        os.remove(\"example.db\")\n        print(\"Datei 'example.db' wurde gelöscht.\")\n    else:\n        print(\"Datei 'example.db' existiert nicht.\")\nelse:\n    print(\"Vorgang abgebrochen.\")",
      "block_group": "a2875f70c03c48939bc0654e618e8140",
      "execution_count": 8,
      "outputs": [],
      "outputs_reference": null,
      "content_dependencies": null
    },
    {
      "cell_type": "markdown",
      "source": "<a style='text-decoration:none;line-height:16px;display:flex;color:#5B5B62;padding:10px;justify-content:end;' href='https://deepnote.com?utm_source=created-in-deepnote-cell&projectId=a2bdea36-0144-499d-8063-c73fb2a08fa1' target=\"_blank\">\n<img alt='Created in deepnote.com' style='display:inline;max-height:16px;margin:0px;margin-right:7.5px;' src='data:image/svg+xml;base64,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' > </img>\nCreated in <span style='font-weight:600;margin-left:4px;'>Deepnote</span></a>",
      "metadata": {
        "created_in_deepnote_cell": true,
        "deepnote_cell_type": "markdown"
      }
    }
  ],
  "nbformat": 4,
  "nbformat_minor": 0,
  "metadata": {
    "deepnote_notebook_id": "b9fa49cd33144222a18f1415b7c30abc"
  }
}