{
  "cells": [
    {
      "cell_type": "markdown",
      "metadata": {
        "cell_id": "6f4eb89e4ac546e490c2d89144bc540d",
        "deepnote_cell_type": "markdown"
      },
      "source": "# Chinook Media Shop\n\nIn the following is a example implementation of the Chinook Media Shop. Here we would describe the applications domain and project scope.",
      "block_group": "04e8779c8edc4706b59e42cfecbf0f2b"
    },
    {
      "cell_type": "markdown",
      "metadata": {
        "cell_id": "2925bf4f90dc4fb5ae305a39c0890f96",
        "deepnote_cell_type": "markdown"
      },
      "source": "# Imports",
      "block_group": "8eb670c79c764268be4eb362a3d92c36"
    },
    {
      "cell_type": "markdown",
      "metadata": {
        "cell_id": "1061dd039a9f4ac0a5dea7234098f5eb",
        "deepnote_cell_type": "markdown"
      },
      "source": "Import standard libs included in python",
      "block_group": "4ab27ec5e7e946abbc46499063c615c7"
    },
    {
      "cell_type": "code",
      "metadata": {
        "source_hash": "c5c7d837",
        "execution_start": 1739617818487,
        "execution_millis": 0,
        "execution_context_id": "c34665e7-4089-4363-8593-277c281cd9df",
        "cell_id": "e5327310dd0446a7921588de4864f5ac",
        "deepnote_cell_type": "code"
      },
      "source": "import shutil\nimport os",
      "block_group": "09dbf2041fe74715ba9f3e5840e9d532",
      "execution_count": 1,
      "outputs": [],
      "outputs_reference": null,
      "content_dependencies": null
    },
    {
      "cell_type": "markdown",
      "metadata": {
        "cell_id": "b9e33891684a4136ba43a04bb1878c3f",
        "deepnote_cell_type": "markdown"
      },
      "source": "Import third party libs",
      "block_group": "483cddc7c73e49d9b0c542734b5a2748"
    },
    {
      "cell_type": "code",
      "metadata": {
        "source_hash": "9b82ee11",
        "execution_start": 1739617818539,
        "execution_millis": 0,
        "execution_context_id": "c34665e7-4089-4363-8593-277c281cd9df",
        "cell_id": "dfaa910fca344fa689c2ab799b382434",
        "deepnote_cell_type": "code"
      },
      "source": "import pandas as pd",
      "block_group": "d9eba32da0804540be4d68eadbec01a9",
      "execution_count": 2,
      "outputs": [],
      "outputs_reference": null,
      "content_dependencies": null
    },
    {
      "cell_type": "markdown",
      "metadata": {
        "cell_id": "58cda4048891427fa618f8f2a4fdf5ce",
        "deepnote_cell_type": "markdown"
      },
      "source": "Import own modules",
      "block_group": "b5767a8a09364dfa9ba4974065570ad5"
    },
    {
      "cell_type": "code",
      "metadata": {
        "source_hash": "29868163",
        "execution_start": 1739617818591,
        "execution_millis": 4178,
        "execution_context_id": "c34665e7-4089-4363-8593-277c281cd9df",
        "cell_id": "7fee0060b9214cd789c8917e878d645d",
        "deepnote_cell_type": "code"
      },
      "source": "import model\nimport data_access\nimport business_logic\nimport ui.input_helper as input_helper",
      "block_group": "2b8784b89a874417af05692964d482ec",
      "execution_count": 3,
      "outputs": [],
      "outputs_reference": null,
      "content_dependencies": null
    },
    {
      "cell_type": "markdown",
      "metadata": {
        "cell_id": "4c8de0c942a44c92929748ff8bf00484",
        "deepnote_cell_type": "markdown"
      },
      "source": "# Using the domain models\n\nIn the following we are using the domain models without any managers or persistence.",
      "block_group": "d698497749364042a12b8a907840e937"
    },
    {
      "cell_type": "code",
      "metadata": {
        "source_hash": "8470ea65",
        "execution_start": 1739617822823,
        "execution_millis": 0,
        "execution_context_id": "c34665e7-4089-4363-8593-277c281cd9df",
        "cell_id": "506709da7ab04282808dadc9b62d0d53",
        "deepnote_cell_type": "code"
      },
      "source": "artist: model.Artist = model.Artist(1, \"New Artist\")\nalbum: model.Album = model.Album(1, \"New Album\", artist)\ntrack: model.Track = model.Track(1, \"New Track\", model.MediaType.MPEG, 10000, 1.99, album=album)\nprint(artist)\nfor album in artist.albums:\n    print(album)\n    for track in album.tracks:\n        print(track)\n\nprint(20*\"*\")\n\ntrack.album = None\nalbum.artist = None\nprint(artist)\nprint(album)\nprint(track)\nprint()\nprint(20*\"*\")\nprint(artist)\nfor album in artist.albums:\n    print(album)\n    for track in album.tracks:\n        print(track)\n\nartist.add_album(album)\nalbum.add_track(track)\nprint()\nprint(20*\"*\")\nprint(artist)\nfor album in artist.albums:\n    print(album)\n    for track in album.tracks:\n        print(track)",
      "block_group": "123fd66a6d8848e29a9d0ab51480bee0",
      "execution_count": 4,
      "outputs": [],
      "outputs_reference": null,
      "content_dependencies": null
    },
    {
      "cell_type": "markdown",
      "metadata": {
        "cell_id": "4ab6dfdb353246e2a7bfd33594817b39",
        "deepnote_cell_type": "markdown"
      },
      "source": "# Configure the application\n\nApplication Configuration\nThe following section sets up the database configuration.\n\nFirst, the source database is duplicated to create a working database, ensuring a fresh start whenever the notebook is executed. Next, environment variables, such as `DB_FILE`, are defined to allow other parts of the application, like the `data_access` layer, to access these values dynamically.\n\nUsing environment variables offers flexibility, as they can be configured within a file or directly at the system level. In this case, they are set programmatically using `os.environ[\"DB_FILE\"] = db_file`.",
      "block_group": "e59e83220783496281f2eec2a30086a2"
    },
    {
      "cell_type": "code",
      "metadata": {
        "source_hash": "9850b6bc",
        "execution_start": 1739617822871,
        "execution_millis": 485,
        "execution_context_id": "c34665e7-4089-4363-8593-277c281cd9df",
        "cell_id": "620bc0f551204d4fbd6bc3b4f5bdde2c",
        "deepnote_cell_type": "code"
      },
      "source": "source = \"database/media_store_o.db\"\ndb_file = \"database/working_db.db\"\nshutil.copyfile(source, db_file) #Copy original DB first to always start fresh.",
      "block_group": "c03c12aa39f443d391d97668ddcbbfc0",
      "execution_count": 5,
      "outputs": [],
      "outputs_reference": null,
      "content_dependencies": null
    },
    {
      "cell_type": "markdown",
      "metadata": {
        "cell_id": "c3e8744812954f5cb2e10610b34b86a1",
        "deepnote_cell_type": "markdown"
      },
      "source": "### Configure Environment Variables",
      "block_group": "48a243619cf94beea51a5ba441eccb7d"
    },
    {
      "cell_type": "code",
      "metadata": {
        "source_hash": "802b2ad2",
        "execution_start": 1739617823403,
        "execution_millis": 0,
        "execution_context_id": "c34665e7-4089-4363-8593-277c281cd9df",
        "cell_id": "3828a3b2838b4bd6b44c17b67fb2c267",
        "deepnote_cell_type": "code"
      },
      "source": "os.environ[\"DB_FILE\"] = db_file",
      "block_group": "fdbe54b0c37e4878955cfa22b5bd6a3f",
      "execution_count": 6,
      "outputs": [],
      "outputs_reference": null,
      "content_dependencies": null
    },
    {
      "cell_type": "markdown",
      "metadata": {
        "cell_id": "9352425663254ac6becd92ba9ba006ef",
        "deepnote_cell_type": "markdown"
      },
      "source": "### Configure display for pandas",
      "block_group": "f42ef4a287604926ac9178c101be9467"
    },
    {
      "cell_type": "code",
      "metadata": {
        "source_hash": "a0b0196b",
        "execution_start": 1739617823451,
        "execution_millis": 0,
        "execution_context_id": "c34665e7-4089-4363-8593-277c281cd9df",
        "cell_id": "0f2e6db0d1214aec8ccba06a3c52d971",
        "deepnote_cell_type": "code"
      },
      "source": "# Increase row and column display limits\npd.set_option(\"display.max_rows\", None)  # Show all rows\npd.set_option(\"display.max_columns\", None)  # Show all columns\npd.set_option(\"display.width\", None)  # Auto-adjust display width\npd.set_option(\"display.max_colwidth\", None)  # Show full column content",
      "block_group": "91c9eaf714924909afcf9b2b374207ec",
      "execution_count": 7,
      "outputs": [],
      "outputs_reference": null,
      "content_dependencies": null
    },
    {
      "cell_type": "markdown",
      "metadata": {
        "cell_id": "af97d22381da47ae8fdaa66ed104ab4c",
        "deepnote_cell_type": "markdown"
      },
      "source": "## Manager initialization\n\nIn this section, all managers from the business logic are initialized. These managers handle the application's core functionality, allowing us to execute user stories while keeping the logic separate from the UI. Additionally, they manage interactions with the persistence layer.",
      "block_group": "a2b7734fba264fd7a2403e2225decdf3"
    },
    {
      "cell_type": "code",
      "metadata": {
        "source_hash": "1919a4b0",
        "execution_start": 1739617823503,
        "execution_millis": 0,
        "execution_context_id": "c34665e7-4089-4363-8593-277c281cd9df",
        "cell_id": "ceeae9737dee433b8284a5e425b5d085",
        "deepnote_cell_type": "code"
      },
      "source": "artist_manager = business_logic.ArtistManager()\nalbum_manager = business_logic.AlbumManager()\ntrack_manager = business_logic.TrackManager()\ngenre_manager = business_logic.GenreManager()",
      "block_group": "efa725f49ca9442ba12afcd152f37a6b",
      "execution_count": 8,
      "outputs": [],
      "outputs_reference": null,
      "content_dependencies": null
    },
    {
      "cell_type": "markdown",
      "metadata": {
        "cell_id": "73973f8095054238b5db993116a33d6d",
        "deepnote_cell_type": "markdown"
      },
      "source": "# User Stories",
      "block_group": "a43cdeaba09f4d73a5fb64e1a1871d9a"
    },
    {
      "cell_type": "markdown",
      "metadata": {
        "cell_id": "9ea49efefa5047828d1f7ef111d27d42",
        "deepnote_cell_type": "markdown"
      },
      "source": "## Get all the artists",
      "block_group": "2d5d419e092240988fbbba8637e02cea"
    },
    {
      "cell_type": "code",
      "metadata": {
        "source_hash": "5d6d6f54",
        "execution_start": 1739617823555,
        "execution_millis": 22152,
        "execution_context_id": "c34665e7-4089-4363-8593-277c281cd9df",
        "cell_id": "fe6bd678a39a4a85a8a35c72f9741697",
        "deepnote_cell_type": "code"
      },
      "source": "artists = artist_manager.read_all_artists()\nfor artist in artists:\n    album_manager.read_artists_albums(artist)\n    print(artist)",
      "block_group": "37e6bcb0a10d4878a9a20630c1646701",
      "execution_count": 9,
      "outputs": [],
      "outputs_reference": null,
      "content_dependencies": null
    },
    {
      "cell_type": "markdown",
      "metadata": {
        "cell_id": "80ac242a63264c77ad68c4797383bfd3",
        "deepnote_cell_type": "markdown"
      },
      "source": "### Get all artists as DataFrame\nNow lets use a DataFrame and see how we can do the same with a table.",
      "block_group": "d29e6d37833c4613a9d95d8beff445a9"
    },
    {
      "cell_type": "code",
      "metadata": {
        "source_hash": "369357ac",
        "execution_start": 1739617845755,
        "execution_millis": 62,
        "execution_context_id": "c34665e7-4089-4363-8593-277c281cd9df",
        "cell_id": "7359bbc83ea540038d2a76a069b52bc6",
        "deepnote_cell_type": "code"
      },
      "source": "artist_df = artist_manager.read_all_artists_as_df()\nartist_df",
      "block_group": "891745c92c23489cb35ae1c7a31f6a2e",
      "execution_count": 10,
      "outputs": [],
      "outputs_reference": null,
      "content_dependencies": null
    },
    {
      "cell_type": "markdown",
      "metadata": {
        "cell_id": "208c46faf5b142bcb370480acc901bdf",
        "deepnote_cell_type": "markdown"
      },
      "source": "## Find artists by similar name",
      "block_group": "978f4ac133f34c4198116a05f7535d94"
    },
    {
      "cell_type": "code",
      "metadata": {
        "source_hash": "76eae472",
        "execution_start": 1739617845863,
        "execution_millis": 36811,
        "execution_context_id": "c34665e7-4089-4363-8593-277c281cd9df",
        "cell_id": "d6ddb5a9fb944d109809066a6c7b76b4",
        "deepnote_cell_type": "code"
      },
      "source": "artist_name = input_helper.input_valid_string(\"Artist Name\")\n\nartists = artist_manager.read_artists_by_similar_name(artist_name)\nartists.sort(key=lambda a: a.name)\nfor artist in artists:\n    print(artist)",
      "block_group": "8416e940ced04fcf9c1d77e88fd5dc4e",
      "execution_count": 11,
      "outputs": [],
      "outputs_reference": null,
      "content_dependencies": null
    },
    {
      "cell_type": "markdown",
      "metadata": {
        "cell_id": "6b3cfa76e83e4c01859206d33a0afa9e",
        "deepnote_cell_type": "markdown"
      },
      "source": "### Find artists by similar name as DataFrame\nNow lets use a DataFrame and see how we can do the same with a table.",
      "block_group": "772860f0f3df466a8e96764ab9535b69"
    },
    {
      "cell_type": "code",
      "metadata": {
        "source_hash": "5e557dc4",
        "execution_start": 1739617882723,
        "execution_millis": 3983,
        "deepnote_table_state": {
          "sortBy": [],
          "filters": [],
          "pageSize": 10,
          "pageIndex": 0,
          "columnOrder": [
            "Name"
          ],
          "hiddenColumnIds": [],
          "columnDisplayNames": [],
          "conditionalFilters": [],
          "cellFormattingRules": [],
          "wrappedTextColumnIds": []
        },
        "execution_context_id": "c34665e7-4089-4363-8593-277c281cd9df",
        "deepnote_table_invalid": false,
        "deepnote_table_loading": false,
        "cell_id": "03e5bca9f8ba4b88b1ba5e3591de887e",
        "deepnote_cell_type": "code"
      },
      "source": "artist_name = input_helper.input_valid_string(\"Artist Name\")\n\nartists = artist_manager.read_artists_by_similar_name_as_df(artist_name).sort_values(\"Name\")\nartists",
      "block_group": "a2c92b9263ea4bc59e7e45f959ab6189",
      "execution_count": 12,
      "outputs": [],
      "outputs_reference": null,
      "content_dependencies": null
    },
    {
      "cell_type": "markdown",
      "metadata": {
        "cell_id": "d29e2fbd3b85421a9e6c72e84266b415",
        "deepnote_cell_type": "markdown"
      },
      "source": "## Find artist by ID",
      "block_group": "6ade3ddd28d647bf9dcceb3c35593365"
    },
    {
      "cell_type": "code",
      "metadata": {
        "source_hash": "cd5e22aa",
        "execution_start": 1739617886751,
        "execution_millis": 10153,
        "execution_context_id": "c34665e7-4089-4363-8593-277c281cd9df",
        "cell_id": "36b0725284b54338bfaa5c8d333f6bd9",
        "deepnote_cell_type": "code"
      },
      "source": "artist_id = None\ncancel = False\nwhile not artist_id and not cancel:\n    try:\n        artist_id = input_helper.input_valid_int(\"Artist ID:\")\n    except input_helper.EmptyInputError:\n        cancel = True\n    except ValueError as err:\n        print(err)\n\nif artist_id is not None:\n    loaded_artist = artist_manager.read_artist(artist_id)\n    if loaded_artist:\n        print(loaded_artist)\n        album_manager.read_artists_albums(loaded_artist)\n        for i_album, album in enumerate(loaded_artist.albums, start=1):\n            print(\"\\t\", f\"{i_album}.\", album)\n            track_manager.read_tracks_by_album(album)\n            for i_track, track in enumerate(album.tracks, start=1):\n                print(\"\\t\\t\", f\"{i_track}.\", track)\n    else:\n        print(\"Artist not found.\")\nelse:\n    print(\"No Artist ID provided.\")",
      "block_group": "113ce28cccc1498bade35e42402b9839",
      "execution_count": 13,
      "outputs": [],
      "outputs_reference": null,
      "content_dependencies": null
    },
    {
      "cell_type": "markdown",
      "metadata": {
        "cell_id": "322b7f3c59e84c70ae5a9b9736d6433c",
        "deepnote_cell_type": "markdown"
      },
      "source": "## Create new artist",
      "block_group": "f061cd34ba964a9c9b8f5e0ace833588"
    },
    {
      "cell_type": "code",
      "metadata": {
        "source_hash": "6ee808eb",
        "execution_start": 1739618431127,
        "execution_millis": 122124,
        "execution_context_id": "c34665e7-4089-4363-8593-277c281cd9df",
        "cell_id": "a4f1f3b65c5d40b68eb4cfa2da76b0de",
        "deepnote_cell_type": "code"
      },
      "source": "artist_name = input_helper.input_valid_string(\"Artist Name\")\nif artist_name:\n    new_artist = artist_manager.create_artist(artist_name)\n    print(new_artist)\n    \n    create_album = input_helper.input_y_n(f\"Create new Album for artist '{new_artist}' (y/n) [y]?\", default=input_helper.YesOrNo.YES)\n    created_albums = 0\n    while create_album:\n        album_name = input_helper.input_valid_string(\"Album Name\")\n        if album_name:\n            new_album = album_manager.create_album(album_name, new_artist)\n            created_albums += 1\n            print(\"Created Album!\")\n            print(\"\\t\", f\"{created_albums}.\", new_album)\n            create_track = input_helper.input_y_n(f\"Create new Track for Album {new_album} (y/n) [y]?\", default=input_helper.YesOrNo.YES)\n            created_tracks = 0\n            while create_track:\n                track_name = input_helper.input_valid_string(\"Track Name\")\n                if track_name:\n                    media_type = None\n                    while not media_type:\n                        try:\n                            media_type_id = input_helper.input_valid_int(\"Media Type ID\", min_value=1, max_value=5)\n                            media_type = model.MediaType.from_id(media_type_id)\n                        except Exception as err:\n                            print(err)\n                            print(\"Use the ID of one of the following Media Types:\")\n                            for mt in model.MediaType:\n                                print(mt.media_type_id, mt.name)\n                    milliseconds = None\n                    while not milliseconds:\n                        try:\n                            milliseconds = input_helper.input_valid_int(\"Milliseconds\", min_value=10000)\n                        except input_helper.OutOfRangeError as err:\n                            print(err)\n                            print(\"You can't add a track with less than 10000 milliseconds (10 sec).\")\n                        except Exception as err:\n                            print(err)\n                            \n                    unit_price = None\n                    while not unit_price:\n                        try:\n                            unit_price = input_helper.input_valid_float(\"Unit Price\", min_value=0.1)\n                        except input_helper.OutOfRangeError as err:\n                            print(err)\n                            print(\"You can't add a track which costs less than 0.1.\")\n                        except Exception as err:\n                            print(err)\n\n                    genre = None\n                    none_gange = False\n                    while not genre and not none_gange:\n                        try:\n                            genre_name = input_helper.input_valid_string(\"Genre\")\n                            if genre_name:\n                                genre = genre_manager.read_genre_by_name(genre_name)\n                                if not genre:\n                                    available_genre = genre_manager.read_all_genre()\n                                    print(\"Genre not found.\")\n                                    print(\"Use the name of one of the following genres:\")\n                                    for g in available_genre:\n                                        print(g)\n                            else:\n                                none_gange = True\n                        except Exception as err:\n                            print(err)\n                    new_track = track_manager.create_track(\n                        track_name,\n                        media_type,\n                        milliseconds,\n                        unit_price,\n                        new_album\n                    )\n                    created_tracks += 1\n                    print(\"Created Track!\")\n                    print(\"\\t\\t\", f\"{created_tracks}.\", new_track)\n                    create_track = input_helper.input_y_n(\n                        f\"Create another new Track for Album {new_album} (y/n) [y]?\",\n                        default=input_helper.YesOrNo.YES\n                    )\n                else:\n                    print(\"No track name given!\")\n                    create_track = input_helper.input_y_n(\n                        f\"Create another new Track for Album {new_album} (y/n) [y]?\", \n                        default=input_helper.YesOrNo.YES\n                    )\n            \n            create_album = input_helper.input_y_n(\n                f\"Create another new Album for artist '{new_artist}' (y/n) [y]?\", \n                default=input_helper.YesOrNo.YES\n            )\n        else:\n            print(\"No album name given!\")\n            create_album = input_helper.input_y_n(\n                f\"Create new Album for artist '{new_artist}' (y/n) [y]?\", \n                default=input_helper.YesOrNo.YES\n            )\nelse:\n    print(\"No artist name given!\")\n    print(\"Canceled creating an artist.\")",
      "block_group": "18be923d755d4fb5801f780e2f5e85ab",
      "execution_count": 16,
      "outputs": [],
      "outputs_reference": null,
      "content_dependencies": null
    },
    {
      "cell_type": "markdown",
      "metadata": {
        "cell_id": "db03c9149d964be58c691930b2fc2e81",
        "deepnote_cell_type": "markdown"
      },
      "source": "## Update Artist",
      "block_group": "17849caba9484859a7023517b4be578f"
    },
    {
      "cell_type": "code",
      "metadata": {
        "source_hash": "ac3f343a",
        "execution_start": 1739618765466,
        "execution_millis": 9855,
        "execution_context_id": "c34665e7-4089-4363-8593-277c281cd9df",
        "cell_id": "5fbda965ee62420f95401a37cec749df",
        "deepnote_cell_type": "code"
      },
      "source": "artist_id = None\ncancel = False\nwhile artist_id is None and not cancel:\n    try:\n        artist_id = input_helper.input_valid_int(\"Artist ID:\")\n        artist = artist_manager.read_artist(artist_id)\n        if artist:\n            print(artist)\n            print(\"Editing Artist...\")\n            artist_name = input_helper.input_valid_string(\"Artist Name\")\n            if artist_name:\n                artist.name = artist_name\n                artist_manager.update_artist(artist)\n                print(f\"Artist with id {artist_id} updated.\")\n                updated_artist = artist_manager.read_artist(artist_id)\n                print(updated_artist)        \n        else:\n            print(f\"Arist with id {artist_id} not found.\")\n            artist_id = None\n    except input_helper.EmptyInputError as e:\n        cancel = True\n        print(\"Canceled changing an artist.\")\n    except ValueError as e:\n        print(\"Invalid Artist ID provided.\")",
      "block_group": "4995ed14a1e44aa280458932aa55e30a",
      "execution_count": 22,
      "outputs": [],
      "outputs_reference": null,
      "content_dependencies": null
    },
    {
      "cell_type": "markdown",
      "metadata": {
        "cell_id": "812bfb07cb5d4ec3857f72dca2deecf4",
        "deepnote_cell_type": "markdown"
      },
      "source": "## Delete Artist",
      "block_group": "4729078c36f047d3851e5bc0c41fb8e0"
    },
    {
      "cell_type": "code",
      "metadata": {
        "source_hash": "6c9801bb",
        "execution_start": 1739619212373,
        "execution_millis": 11529,
        "execution_context_id": "c34665e7-4089-4363-8593-277c281cd9df",
        "cell_id": "8503e6096b9945a5bea5965f4121e6a7",
        "deepnote_cell_type": "code"
      },
      "source": "artist_id = None\ncancel = False\nwhile artist_id is None and not cancel:\n    try:\n        artist_id = input_helper.input_valid_int(\"Artist ID:\")\n        artist = artist_manager.read_artist(artist_id)\n        \n        if artist:\n            print(artist)\n            yes_no = None\n            cancel = False\n            while not yes_no and not cancel:\n                try:\n                    yes_no = input_helper.input_y_n(\"Delete Artist (y/n) [n]?\", default=input_helper.YesOrNo.NO)\n                    if yes_no:\n                        artist_manager.delete_artist(artist)\n                        print(f\"Artist with id {artist_id} deleted.\")\n                    else:\n                        print(\"Canceled deleting an artist.\")\n                        cancel = True\n                except Exception as e:\n                    print(e)\n                 \n        else:\n            print(f\"Arist with id {artist_id} not found.\")\n            artist_id = None\n    except input_helper.EmptyInputError as e:\n        cancel = True\n        print(\"Canceled changing an artist.\")\n    except ValueError as e:\n        print(\"Invalid Artist ID provided.\")",
      "block_group": "5b665f2a48934d84b10d370fd5cfaede",
      "execution_count": 32,
      "outputs": [],
      "outputs_reference": null,
      "content_dependencies": null
    },
    {
      "cell_type": "markdown",
      "source": "<a style='text-decoration:none;line-height:16px;display:flex;color:#5B5B62;padding:10px;justify-content:end;' href='https://deepnote.com?utm_source=created-in-deepnote-cell&projectId=a2bdea36-0144-499d-8063-c73fb2a08fa1' target=\"_blank\">\n<img alt='Created in deepnote.com' style='display:inline;max-height:16px;margin:0px;margin-right:7.5px;' src='data:image/svg+xml;base64,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' > </img>\nCreated in <span style='font-weight:600;margin-left:4px;'>Deepnote</span></a>",
      "metadata": {
        "created_in_deepnote_cell": true,
        "deepnote_cell_type": "markdown"
      }
    }
  ],
  "nbformat": 4,
  "nbformat_minor": 0,
  "metadata": {
    "deepnote_persisted_session": {
      "createdAt": "2025-02-15T17:50:55.740Z"
    },
    "deepnote_notebook_id": "2c6a71fa2b47434c8f15b73475e6a22c"
  }
}